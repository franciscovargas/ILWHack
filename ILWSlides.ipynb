{
 "cells": [
  {
   "cell_type": "markdown",
   "metadata": {
    "slideshow": {
     "slide_type": "slide"
    }
   },
   "source": [
    "# Team Banitsa\n",
    "\n",
    "![](https://raw.githubusercontent.com/franciscovargas/ILWHack/master/project/client/static/ban.jpeg)\n",
    "\n",
    "* Francisco Vargas;\n",
    "* Mariyana Cholakova;\n",
    "* Lambrina Lolova;\n"
   ]
  },
  {
   "cell_type": "markdown",
   "metadata": {
    "slideshow": {
     "slide_type": "slide"
    }
   },
   "source": [
    "# Big Data Movement\n",
    "\n",
    "* Big hype for extracting useful results from large data sets;\n",
    "* Useful technological developments in Machine Learning to present, process and make use of information;\n",
    "* Simple and well documented numerical packages that facilitate the use of these technologies;\n",
    "* Enpower people/customers with these tools to make useful inferences that may facilitate and speed up their choices.\n",
    "* Data analysis is something we all do every day every second without noticing ! so why not help users out with their pre-purchase analysis !"
   ]
  },
  {
   "cell_type": "markdown",
   "metadata": {
    "slideshow": {
     "slide_type": "subslide"
    }
   },
   "source": [
    "\n",
    "![](https://raw.githubusercontent.com/franciscovargas/ILWHack/master/project/client/static/num.jpeg)\n"
   ]
  },
  {
   "cell_type": "markdown",
   "metadata": {
    "slideshow": {
     "slide_type": "subslide"
    }
   },
   "source": [
    "\n",
    "![](https://raw.githubusercontent.com/franciscovargas/ILWHack/master/project/client/static/bok.png)\n"
   ]
  },
  {
   "cell_type": "markdown",
   "metadata": {
    "slideshow": {
     "slide_type": "subslide"
    }
   },
   "source": [
    "![](https://raw.githubusercontent.com/franciscovargas/ILWHack/master/project/client/static/learn.png)"
   ]
  },
  {
   "cell_type": "markdown",
   "metadata": {
    "slideshow": {
     "slide_type": "subslide"
    }
   },
   "source": [
    "\n",
    "![](https://raw.githubusercontent.com/franciscovargas/ILWHack/master/project/client/static/pand.png)"
   ]
  },
  {
   "cell_type": "markdown",
   "metadata": {
    "slideshow": {
     "slide_type": "subslide"
    }
   },
   "source": [
    "![](https://raw.githubusercontent.com/franciscovargas/ILWHack/master/project/client/static/flask.png)"
   ]
  },
  {
   "cell_type": "markdown",
   "metadata": {
    "slideshow": {
     "slide_type": "subslide"
    }
   },
   "source": [
    "# Our Idea\n",
    "\n",
    "* Revoo API can gives us the purchased products for a given logged in user;\n",
    "* Given a users history we can recommend products to him (with a stochastic element for fun !);\n",
    "* We can also aid the user with some very intuitive plots that will help him or her scout for products (a graphical or graph based search engine ?);\n",
    "* Allow users to rank products;\n",
    "* So we build a small prototype app to showcase this idea !"
   ]
  },
  {
   "cell_type": "markdown",
   "metadata": {
    "slideshow": {
     "slide_type": "slide"
    }
   },
   "source": [
    "# Application Structure\n",
    "\n",
    "![](https://raw.githubusercontent.com/franciscovargas/ILWHack/master/project/client/static/diag.png)"
   ]
  },
  {
   "cell_type": "markdown",
   "metadata": {
    "slideshow": {
     "slide_type": "slide"
    }
   },
   "source": [
    "# Recomending Products (KNN)\n",
    "\n",
    "The idea is simple. Based on its users previous products find the most similar (nearby products).\n",
    "\n",
    "We require to represent users numerically. For each product we have information as follows:\n",
    "\n",
    "\\begin{equation}\n",
    "\\underline{x}_{prod} = <Category, brand, manufacturer, price, discount, max delivery, min delivery>\n",
    "\\end{equation}\n",
    "\n",
    "Over the numerical values such as price we can just average to represent the user.\n",
    "For non numerical values such as brand we just take the mode to represent the user. Some preprocessing was done to make the non numeric attributes in to a binary representation such that we would use Euclidean distance as our measure of similarity between products and user. The $k$ closest are picked."
   ]
  },
  {
   "cell_type": "markdown",
   "metadata": {
    "slideshow": {
     "slide_type": "slide"
    }
   },
   "source": [
    "# Data Lab\n",
    "\n",
    "Displays summary plots that allows the user to explore products that may be of interest in the context of similarity as explained previously.\n",
    "\n",
    "![](https://raw.githubusercontent.com/franciscovargas/ILWHack/master/project/client/static/hack3.png)"
   ]
  },
  {
   "cell_type": "markdown",
   "metadata": {
    "slideshow": {
     "slide_type": "subslide"
    }
   },
   "source": [
    "![](https://raw.githubusercontent.com/franciscovargas/ILWHack/master/project/client/static/hack4.png)"
   ]
  },
  {
   "cell_type": "markdown",
   "metadata": {
    "slideshow": {
     "slide_type": "slide"
    }
   },
   "source": [
    "# Food for Thought\n",
    "\n",
    "* Alow users to display specific categories or constraints on plots;\n",
    "* Use NLP and general feedback comments on products to maybe automatically rank them based on sentiment analysis;\n",
    "* Product vector representation is sparse maybe look in to better data extraction;\n",
    "* Explore the products of other similar users"
   ]
  },
  {
   "cell_type": "code",
   "execution_count": null,
   "metadata": {
    "collapsed": true
   },
   "outputs": [],
   "source": []
  }
 ],
 "metadata": {
  "celltoolbar": "Slideshow",
  "kernelspec": {
   "display_name": "Python 2",
   "language": "python",
   "name": "python2"
  },
  "language_info": {
   "codemirror_mode": {
    "name": "ipython",
    "version": 2
   },
   "file_extension": ".py",
   "mimetype": "text/x-python",
   "name": "python",
   "nbconvert_exporter": "python",
   "pygments_lexer": "ipython2",
   "version": "2.7.5+"
  }
 },
 "nbformat": 4,
 "nbformat_minor": 0
}
